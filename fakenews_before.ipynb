{
 "cells": [
  {
   "cell_type": "code",
   "execution_count": 1,
   "metadata": {},
   "outputs": [],
   "source": [
    "import numpy as np\n",
    "import pandas as pd"
   ]
  },
  {
   "cell_type": "code",
   "execution_count": 3,
   "metadata": {},
   "outputs": [
    {
     "name": "stdout",
     "output_type": "stream",
     "text": [
      "                 id                                            context  \\\n",
      "0      000128042337  朝日新聞など各社の報道によれば、宅配便最大手「ヤマト運輸」が日本郵政公社を相手取り、大手コン...   \n",
      "1      00012b7a8314  11月5日の各社報道によると、諫早湾干拓事業は諫早海人（諫早湾の「海」）に囲まれる大洋に位置...   \n",
      "2      0005fb48880b  産経新聞、中日新聞によると、2004年から2005年まで、この大会による3年おきの開催を、2...   \n",
      "3      00087f9e14ab  開催地のリオデジャネイロ市に対して、大会期間中のリオデジャネイロオリンピックに関する公式発表...   \n",
      "4      000c9ac3d552  毎日新聞・時事通信によると、2006年2月13日には、グッドウィル・グッゲンハイム・アン・ハ...   \n",
      "...             ...                                                ...   \n",
      "13035  ffc1ab0492e3  広島市の健康福祉企画課の説明では11月1日から12月10日の間に、市内各区役所に22人の派遣...   \n",
      "13036  ffc40591a6ae  日本経済新聞社によるとソフトバンクモバイルは5日、月額基本料金が980円（税込）の新料金プラ...   \n",
      "13037  ffcabd663b9f  東京新聞によると※は日本生命所属のキャッチコピー・ロゴ。10日本生命（株）。本社には同社の主...   \n",
      "13038  ffe993d53780  日刊スポーツによると、1996年の平塚市議会で木原さんは、平塚市内の病院に入院していた際、「...   \n",
      "13039  fff20532e008  30日付の官報によると、NOVAの新学習センターは、1室4,300平方メートルで、NOVAの...   \n",
      "\n",
      "       isfake  nchar_real  nchar_fake  \n",
      "0           0         541           0  \n",
      "1           2           0         385  \n",
      "2           2           0         255  \n",
      "3           1         435         218  \n",
      "4           2           0         248  \n",
      "...       ...         ...         ...  \n",
      "13035       1         373         665  \n",
      "13036       0         290           0  \n",
      "13037       2           0         212  \n",
      "13038       2           0         240  \n",
      "13039       2           0         936  \n",
      "\n",
      "[13040 rows x 5 columns]\n"
     ]
    }
   ],
   "source": [
    "train_df = pd.read_csv('./fakenews.csv')[:100]\n",
    "print(train_df)"
   ]
  },
  {
   "cell_type": "code",
   "execution_count": 5,
   "metadata": {},
   "outputs": [],
   "source": [
    "from sklearn.model_selection import train_test_split\n",
    "\n",
    "X_train, X_test, y_train, y_test = train_test_split(\n",
    "\ttrain_df['context'].values.astype('str'),\n",
    "\ttrain_df['isfake'].values.astype('int'),\n",
    "\ttest_size=0.2,\n",
    "\trandom_state=0\n",
    ")"
   ]
  },
  {
   "cell_type": "code",
   "execution_count": null,
   "metadata": {},
   "outputs": [],
   "source": [
    "from gensim.models.doc2vec import Doc2Vec, TaggedDocument"
   ]
  }
 ],
 "metadata": {
  "kernelspec": {
   "display_name": "Python 3",
   "language": "python",
   "name": "python3"
  },
  "language_info": {
   "codemirror_mode": {
    "name": "ipython",
    "version": 3
   },
   "file_extension": ".py",
   "mimetype": "text/x-python",
   "name": "python",
   "nbconvert_exporter": "python",
   "pygments_lexer": "ipython3",
   "version": "3.8.9"
  },
  "orig_nbformat": 4,
  "vscode": {
   "interpreter": {
    "hash": "31f2aee4e71d21fbe5cf8b01ff0e069b9275f58929596ceb00d14d90e3e16cd6"
   }
  }
 },
 "nbformat": 4,
 "nbformat_minor": 2
}
